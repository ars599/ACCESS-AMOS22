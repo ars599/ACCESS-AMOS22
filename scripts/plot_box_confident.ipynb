{
 "cells": [
  {
   "cell_type": "code",
   "execution_count": null,
   "id": "76a79a07-2961-43ad-b400-1d8466ddd616",
   "metadata": {},
   "outputs": [],
   "source": [
    "#\n",
    "# https://rabernat.github.io/research_computing_2018/xarray-tips-and-tricks.html\n",
    "#\n",
    "base_url = 'http://www.esrl.noaa.gov/psd/thredds/dodsC/Datasets/ncep.reanalysis/surface/air.sig995'\n",
    "\n",
    "files = [f'{base_url}.{year}.nc' for year in range(1948, 2019)]\n",
    "files\n",
    "\n",
    "\n",
    "import xarray as xr\n",
    "%matplotlib inline\n",
    "\n",
    "ds = xr.open_mfdataset(files)\n",
    "ds \n",
    "\n",
    "import netCDF4 as nc\n",
    "\n",
    "# read multiple files (wildcard)\n",
    "vn = nc.MFDataset('/g/data/p66/ars599/mo_gc3/cq317/apm.pp/netCDF/cq317a.pm20*.nc') \n",
    "\n",
    "# read multiple files (file list)\n",
    "#vn = nc.MFDataset(['data_y1997','data_y1998','data_y1999'])\n",
    "\n",
    "# Variable from multiple files.\n",
    "#airv = vn.variables['ts']"
   ]
  },
  {
   "cell_type": "code",
   "execution_count": 1,
   "id": "173cbae0-dfd8-49cf-9f77-74b06c6a001a",
   "metadata": {},
   "outputs": [],
   "source": [
    "import numpy as np\n",
    "import matplotlib.pyplot as plt\n",
    "\n",
    "import geocat.viz as gv\n",
    "\n"
   ]
  },
  {
   "cell_type": "code",
   "execution_count": 2,
   "id": "4f1e7ad2-c7a1-46e7-b137-de68b1024583",
   "metadata": {},
   "outputs": [],
   "source": [
    "np.random.seed(200)\n",
    "data = np.random.lognormal(size=(40, 3), mean=1, sigma=.7)\n",
    "for a in range(len(data)):\n",
    "    data[a] = [x - 4 for x in data[a]]"
   ]
  },
  {
   "cell_type": "code",
   "execution_count": 3,
   "id": "7a05244c-c72f-4e57-ac63-960095be7eb4",
   "metadata": {},
   "outputs": [],
   "source": [
    "def setBoxColor(boxplot, colors):\n",
    "\n",
    "    # Set edge color of the outside and median lines of the boxes\n",
    "    for element in ['boxes', 'medians']:\n",
    "        for box, color in zip(boxplot[element], colors):\n",
    "            plt.setp(box, color=color)\n",
    "\n",
    "    # Set the color of the whiskers and caps of the boxes\n",
    "    for element in ['whiskers', 'caps']:\n",
    "        for box, color in zip(\n",
    "                zip(boxplot[element][::2], boxplot[element][1::2]), colors):\n",
    "            plt.setp(box, color=color)"
   ]
  },
  {
   "cell_type": "code",
   "execution_count": 4,
   "id": "47b93f66-3f41-439d-8d4e-bb6cad77d1cf",
   "metadata": {},
   "outputs": [],
   "source": [
    "def removeSpines(ax):\n",
    "\n",
    "    ax.spines['right'].set_visible(False)\n",
    "    ax.spines['top'].set_visible(False)"
   ]
  },
  {
   "cell_type": "code",
   "execution_count": 5,
   "id": "72b9b4c1-99c2-4ca3-8e78-9ba960c4c428",
   "metadata": {},
   "outputs": [
    {
     "data": {
      "image/png": "[encoded data removed]",
      "text/plain": [
       "<Figure size 432x432 with 1 Axes>"
      ]
     },
     "metadata": {
      "needs_background": "light"
     },
     "output_type": "display_data"
    }
   ],
   "source": [
    "# Create figure and axis\n",
    "fig, ax = plt.subplots(figsize=(6, 6))\n",
    "\n",
    "# Plot each boxplot, set tick labels, and determine box widths\n",
    "boxplots = ax.boxplot(data,\n",
    "                      labels=['Control', '-2Xna', '2Xna'],\n",
    "                      widths=[0.4, 0.4, 0.4],\n",
    "                      showfliers=False)\n",
    "\n",
    "# Set whisker style to dashed\n",
    "plt.setp(boxplots['whiskers'], linestyle='--')\n",
    "\n",
    "# Set boxplot edge colors\n",
    "setBoxColor(boxplots, ['blue', 'red', 'green'])\n",
    "\n",
    "# Use geocat.viz.util convenience function to set axes tick values\n",
    "gv.set_axes_limits_and_ticks(ax, ylim=(-6.0, 9.0), yticks=[-3.0, 0.0, 3.0, 6.0])\n",
    "\n",
    "# Use geocat.viz.util convenience function to add minor and major tick lines\n",
    "gv.add_major_minor_ticks(ax,\n",
    "                         y_minor_per_major=3,\n",
    "                         x_minor_per_major=1,\n",
    "                         labelsize=14)\n",
    "\n",
    "# Use geocat.viz.util convenience function to add title to the plot axis.\n",
    "gv.set_titles_and_labels(ax, maintitle='Box Plot with Polymarkers')\n",
    "\n",
    "# Make both major and minor ticks point inwards towards the plot\n",
    "ax.tick_params(direction=\"in\", which='both')\n",
    "\n",
    "# Get rid of right and top axis spines\n",
    "removeSpines(ax)\n",
    "\n",
    "# Set ticks only at left and bottom sides of plot\n",
    "ax.yaxis.set_ticks_position('left')\n",
    "ax.xaxis.set_ticks_position('bottom')\n",
    "\n",
    "# Add another partially transparent axis on top of the first one\n",
    "ax2 = ax.inset_axes([0, 0, 1, 1])\n",
    "ax2.patch.set_alpha(0.2)\n",
    "\n",
    "# Set limits of second axis so markers will line up with boxes on boxplot\n",
    "ax2.set_xlim(0, 6)\n",
    "ax2.set_ylim(-6, 9)\n",
    "\n",
    "# Turn both major and minor ticks in overlayed axis off\n",
    "ax2.tick_params(which='both',\n",
    "                top=False,\n",
    "                bottom=False,\n",
    "                left=False,\n",
    "                right=False,\n",
    "                labelleft=False,\n",
    "                labelbottom=False)\n",
    "\n",
    "# Get rid of right and top axis spines\n",
    "removeSpines(ax2)\n",
    "\n",
    "# Plot red x markers\n",
    "ax2.scatter(1, 7.7, marker='x', color='red', linewidth=.5, s=100)\n",
    "ax2.scatter(3, 2.5, marker='x', color='red', linewidth=.5, s=100)\n",
    "ax2.scatter(5, 2, marker='x', color='red', linewidth=.5, s=100)\n",
    "\n",
    "# Plot blue o markers\n",
    "ax2.scatter(1, 2, marker='o', color='darkblue')\n",
    "ax2.scatter(3, -0.5, marker='o', color='darkblue')\n",
    "ax2.scatter(5, 1, marker='o', color='darkblue')\n",
    "\n",
    "plt.show()"
   ]
  },
  {
   "cell_type": "code",
   "execution_count": null,
   "id": "1e9c16de-ad95-4324-8ef3-3b0918eb111b",
   "metadata": {},
   "outputs": [],
   "source": []
  }
 ],
 "metadata": {
  "kernelspec": {
   "display_name": "Python [conda env:analysis3-22.01]",
   "language": "python",
   "name": "conda-env-analysis3-22.01-py"
  },
  "language_info": {
   "codemirror_mode": {
    "name": "ipython",
    "version": 3
   },
   "file_extension": ".py",
   "mimetype": "text/x-python",
   "name": "python",
   "nbconvert_exporter": "python",
   "pygments_lexer": "ipython3",
   "version": "3.9.12"
  }
 },
 "nbformat": 4,
 "nbformat_minor": 5
}
