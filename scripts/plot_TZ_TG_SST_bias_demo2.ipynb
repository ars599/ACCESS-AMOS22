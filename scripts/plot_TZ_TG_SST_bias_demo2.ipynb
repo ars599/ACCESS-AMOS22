{
 "cells": [
  {
   "cell_type": "code",
   "execution_count": 1,
   "id": "dcde2419-945e-468a-9f21-6d0efc2d591d",
   "metadata": {},
   "outputs": [],
   "source": [
    "import matplotlib.pyplot as plt\n",
    "import xarray as xr\n",
    "import numpy as np\n",
    "import cftime\n",
    "\n",
    "import IPython.display\n",
    "import cmocean as cm\n",
    "import cartopy.crs as ccrs\n",
    "import cartopy.feature as cft\n",
    "import sys, os, warnings\n",
    "\n",
    "import cosima_cookbook as cc"
   ]
  },
  {
   "cell_type": "code",
   "execution_count": 27,
   "id": "0d6b90f6-19d9-401c-9916-185ca792aab7",
   "metadata": {},
   "outputs": [],
   "source": [
    "db = 'local_cc_test.db'\n",
    "session = cc.database.create_session(db)"
   ]
  },
  {
   "cell_type": "code",
   "execution_count": 14,
   "id": "7ce61ddc-5438-4dd2-9f59-3d0a16f40ace",
   "metadata": {},
   "outputs": [],
   "source": [
    "from collections import OrderedDict\n",
    "exptdict = OrderedDict([\n",
    "    ('HI-00', # original historical run\n",
    "     {'model': 'ACCESS-ESM 1.5', 'expt': 'HI-00',\n",
    "      'n_files': -12, 'itime': '1850-01-01', 'ftime': None}),\n",
    "    ('HI-02', # Pacific Pacemaker historical run\n",
    "     {'model': 'ACCESS-ESM 1.5', 'expt': 'HI-02',\n",
    "      'n_files': -12, 'itime': '1850-01-01', 'ftime': None}),\n",
    "])"
   ]
  },
  {
   "cell_type": "code",
   "execution_count": 24,
   "id": "1ab9b8ee-db14-4add-919d-72f6bce71a83",
   "metadata": {},
   "outputs": [],
   "source": [
    "# Add on pre-interpolated WOA13 directories for every run:\n",
    "session_obs = cc.database.create_session()\n",
    "for ekey in exptdict.keys():\n",
    "    e = exptdict[ekey]\n",
    "    if (ekey.find('025deg') != -1):\n",
    "        e['WOA13expt'] = '025_KDS50'\n",
    "        e['WOA13file'] = 'woa13_ts_??_mom025.nc'\n",
    "    elif (ekey.find('01deg') != -1):\n",
    "        e['WOA13expt'] = '01'\n",
    "        e['WOA13file'] = 'woa13_ts_??_mom01.nc'\n",
    "    else:\n",
    "        e['WOA13expt'] = '10_KDS50'\n",
    "        e['WOA13file'] = 'woa13_ts_??_mom10.nc'"
   ]
  },
  {
   "cell_type": "code",
   "execution_count": 26,
   "id": "f7bb3785-cf2c-4a2d-bc08-952e4421338c",
   "metadata": {},
   "outputs": [
    {
     "data": {
      "text/html": [
       "<div>\n",
       "<style scoped>\n",
       "    .dataframe tbody tr th:only-of-type {\n",
       "        vertical-align: middle;\n",
       "    }\n",
       "\n",
       "    .dataframe tbody tr th {\n",
       "        vertical-align: top;\n",
       "    }\n",
       "\n",
       "    .dataframe thead th {\n",
       "        text-align: right;\n",
       "    }\n",
       "</style>\n",
       "<table border=\"1\" class=\"dataframe\">\n",
       "  <thead>\n",
       "    <tr style=\"text-align: right;\">\n",
       "      <th></th>\n",
       "      <th>ncfile</th>\n",
       "      <th>index_time</th>\n",
       "    </tr>\n",
       "  </thead>\n",
       "  <tbody>\n",
       "  </tbody>\n",
       "</table>\n",
       "</div>"
      ],
      "text/plain": [
       "Empty DataFrame\n",
       "Columns: [ncfile, index_time]\n",
       "Index: []"
      ]
     },
     "execution_count": 26,
     "metadata": {},
     "output_type": "execute_result"
    }
   ],
   "source": [
    "cc.querying.get_ncfiles(session_obs,experiment='10_KDS50')"
   ]
  },
  {
   "cell_type": "code",
   "execution_count": 11,
   "id": "950b5def-7432-4fe9-ba40-6910f6f3002a",
   "metadata": {},
   "outputs": [
    {
     "name": "stdout",
     "output_type": "stream",
     "text": [
      "HI-00: -3375432000000000000 to -2999419200000000000\n"
     ]
    },
    {
     "ename": "VariableNotFoundError",
     "evalue": "No files were found containing 'temp' in the '10_KDS50' experiment",
     "output_type": "error",
     "traceback": [
      "\u001b[0;31m---------------------------------------------------------------------------\u001b[0m",
      "\u001b[0;31mVariableNotFoundError\u001b[0m                     Traceback (most recent call last)",
      "\u001b[0;32m/local/p66/ars599/tmp/ipykernel_3931083/1805540285.py\u001b[0m in \u001b[0;36m<cell line: 3>\u001b[0;34m()\u001b[0m\n\u001b[1;32m     26\u001b[0m     \u001b[0;32mwith\u001b[0m \u001b[0mwarnings\u001b[0m\u001b[0;34m.\u001b[0m\u001b[0mcatch_warnings\u001b[0m\u001b[0;34m(\u001b[0m\u001b[0;34m)\u001b[0m\u001b[0;34m:\u001b[0m\u001b[0;34m\u001b[0m\u001b[0;34m\u001b[0m\u001b[0m\n\u001b[1;32m     27\u001b[0m         \u001b[0mwarnings\u001b[0m\u001b[0;34m.\u001b[0m\u001b[0msimplefilter\u001b[0m\u001b[0;34m(\u001b[0m\u001b[0;34m\"ignore\"\u001b[0m\u001b[0;34m,\u001b[0m \u001b[0mUserWarning\u001b[0m\u001b[0;34m)\u001b[0m\u001b[0;34m\u001b[0m\u001b[0;34m\u001b[0m\u001b[0m\n\u001b[0;32m---> 28\u001b[0;31m         \u001b[0me\u001b[0m\u001b[0;34m[\u001b[0m\u001b[0;34m'SST_WOA13'\u001b[0m\u001b[0;34m]\u001b[0m \u001b[0;34m=\u001b[0m \u001b[0mcc\u001b[0m\u001b[0;34m.\u001b[0m\u001b[0mquerying\u001b[0m\u001b[0;34m.\u001b[0m\u001b[0mgetvar\u001b[0m\u001b[0;34m(\u001b[0m\u001b[0me\u001b[0m\u001b[0;34m[\u001b[0m\u001b[0;34m'WOA13expt'\u001b[0m\u001b[0;34m]\u001b[0m\u001b[0;34m,\u001b[0m \u001b[0;34m'temp'\u001b[0m\u001b[0;34m,\u001b[0m \u001b[0msession_obs\u001b[0m\u001b[0;34m)\u001b[0m\u001b[0;34m.\u001b[0m\u001b[0misel\u001b[0m\u001b[0;34m(\u001b[0m\u001b[0mZT\u001b[0m\u001b[0;34m=\u001b[0m\u001b[0;36m0\u001b[0m\u001b[0;34m)\u001b[0m\u001b[0;34m.\u001b[0m\u001b[0mmean\u001b[0m\u001b[0;34m(\u001b[0m\u001b[0;34m'time'\u001b[0m\u001b[0;34m)\u001b[0m\u001b[0;34m.\u001b[0m\u001b[0mload\u001b[0m\u001b[0;34m(\u001b[0m\u001b[0;34m)\u001b[0m\u001b[0;34m\u001b[0m\u001b[0;34m\u001b[0m\u001b[0m\n\u001b[0m\u001b[1;32m     29\u001b[0m \u001b[0;34m\u001b[0m\u001b[0m\n\u001b[1;32m     30\u001b[0m     \u001b[0;31m# Calculate bias and add to dictionary\u001b[0m\u001b[0;34m\u001b[0m\u001b[0;34m\u001b[0m\u001b[0m\n",
      "\u001b[0;32m/g/data/hh5/public/apps/miniconda3/envs/analysis3-22.01/lib/python3.9/site-packages/cosima_cookbook/querying.py\u001b[0m in \u001b[0;36mgetvar\u001b[0;34m(expt, variable, session, ncfile, start_time, end_time, n, frequency, attrs, attrs_unique, **kwargs)\u001b[0m\n\u001b[1;32m    327\u001b[0m         \u001b[0mattrs_unique\u001b[0m \u001b[0;34m=\u001b[0m \u001b[0;34m{\u001b[0m\u001b[0;34m\"cell_methods\"\u001b[0m\u001b[0;34m:\u001b[0m \u001b[0;34m\"time: mean\"\u001b[0m\u001b[0;34m}\u001b[0m\u001b[0;34m\u001b[0m\u001b[0;34m\u001b[0m\u001b[0m\n\u001b[1;32m    328\u001b[0m \u001b[0;34m\u001b[0m\u001b[0m\n\u001b[0;32m--> 329\u001b[0;31m     ncfiles = _ncfiles_for_variable(\n\u001b[0m\u001b[1;32m    330\u001b[0m         \u001b[0mexpt\u001b[0m\u001b[0;34m,\u001b[0m\u001b[0;34m\u001b[0m\u001b[0;34m\u001b[0m\u001b[0m\n\u001b[1;32m    331\u001b[0m         \u001b[0mvariable\u001b[0m\u001b[0;34m,\u001b[0m\u001b[0;34m\u001b[0m\u001b[0;34m\u001b[0m\u001b[0m\n",
      "\u001b[0;32m/g/data/hh5/public/apps/miniconda3/envs/analysis3-22.01/lib/python3.9/site-packages/cosima_cookbook/querying.py\u001b[0m in \u001b[0;36m_ncfiles_for_variable\u001b[0;34m(expt, variable, session, ncfile, start_time, end_time, n, frequency, attrs, attrs_unique)\u001b[0m\n\u001b[1;32m    494\u001b[0m     \u001b[0;31m# ensure we actually got a result\u001b[0m\u001b[0;34m\u001b[0m\u001b[0;34m\u001b[0m\u001b[0m\n\u001b[1;32m    495\u001b[0m     \u001b[0;32mif\u001b[0m \u001b[0;32mnot\u001b[0m \u001b[0mncfiles\u001b[0m\u001b[0;34m:\u001b[0m\u001b[0;34m\u001b[0m\u001b[0;34m\u001b[0m\u001b[0m\n\u001b[0;32m--> 496\u001b[0;31m         raise VariableNotFoundError(\n\u001b[0m\u001b[1;32m    497\u001b[0m             \"No files were found containing '{}' in the '{}' experiment\".format(\n\u001b[1;32m    498\u001b[0m                 \u001b[0mvariable\u001b[0m\u001b[0;34m,\u001b[0m \u001b[0mexpt\u001b[0m\u001b[0;34m\u001b[0m\u001b[0;34m\u001b[0m\u001b[0m\n",
      "\u001b[0;31mVariableNotFoundError\u001b[0m: No files were found containing 'temp' in the '10_KDS50' experiment"
     ]
    }
   ],
   "source": [
    "# Function to extract and load SST and SSS from the models, WOA13\n",
    "ekeys = ['HI-00', 'HI-02']\n",
    "for ekey in ekeys:\n",
    "    e = exptdict[ekey]\n",
    "\n",
    "    # SST\n",
    "    # -----\n",
    "\n",
    "    # Load surface temperature from model\n",
    "    surface_temp = cc.querying.getvar(e['expt'], 'pot_temp', session,\n",
    "                            n=e['n_files'], ncfile='ocean_month.nc',\n",
    "                 start_time=e['itime'], end_time=e['ftime']).isel(st_ocean=0)\n",
    "\n",
    "    # Extract a year range string and print (for title string):\n",
    "    e['yearrange'] = \"{} to {}\".format(\n",
    "        surface_temp.time.item(0), #.strftime(\"%Y-%m\"),\n",
    "        surface_temp.time.item(-1), #.strftime(\"%Y-%m\"),\n",
    "    )\n",
    "    print(f\"{ekey}: {e['yearrange']}\")\n",
    "\n",
    "    # Add SST to dictionary\n",
    "    e['SST'] = surface_temp.mean('time').load() - 273.15\n",
    "\n",
    "    # Load WOA13 SST and add to dictionary\n",
    "    # ignore warning about ambiguous files\n",
    "    with warnings.catch_warnings():\n",
    "        warnings.simplefilter(\"ignore\", UserWarning)\n",
    "        e['SST_WOA13'] = cc.querying.getvar(e['WOA13expt'], 'temp', session_obs).isel(ZT=0).mean('time').load()\n",
    "\n",
    "    # Calculate bias and add to dictionary\n",
    "    SST_diff = e['SST'] - e['SST_WOA13'].values\n",
    "    e['SST_diff'] = SST_diff.load()\n",
    "\n",
    "    # SSS\n",
    "    # -----\n",
    "    surface_salt = cc.querying.getvar(e['expt'], 'salt', session,\n",
    "                            n=e['n_files'],ncfile='ocean_month.nc',\n",
    "                 start_time=e['itime'], end_time=e['ftime']).isel(st_ocean=0)\n",
    "    e['SSS'] = surface_salt.mean('time').load()\n",
    "    with warnings.catch_warnings():\n",
    "        warnings.simplefilter(\"ignore\", UserWarning)\n",
    "        e['SSS_WOA13'] = cc.querying.getvar(e['WOA13expt'], 'salt',session_obs).isel(ZT=0).mean('time').load()\n",
    "    SSS_diff = e['SSS'] - e['SSS_WOA13'].values\n",
    "    e['SSS_diff'] = SSS_diff.load()"
   ]
  },
  {
   "cell_type": "code",
   "execution_count": null,
   "id": "754d897d-f6ce-4902-9152-888b61d43057",
   "metadata": {},
   "outputs": [],
   "source": []
  }
 ],
 "metadata": {
  "kernelspec": {
   "display_name": "Python [conda env:analysis3-22.01]",
   "language": "python",
   "name": "conda-env-analysis3-22.01-py"
  },
  "language_info": {
   "codemirror_mode": {
    "name": "ipython",
    "version": 3
   },
   "file_extension": ".py",
   "mimetype": "text/x-python",
   "name": "python",
   "nbconvert_exporter": "python",
   "pygments_lexer": "ipython3",
   "version": "3.9.12"
  }
 },
 "nbformat": 4,
 "nbformat_minor": 5
}
