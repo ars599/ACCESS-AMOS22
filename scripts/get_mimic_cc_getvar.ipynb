{
 "cells": [
  {
   "cell_type": "code",
   "execution_count": 49,
   "id": "5ae9faed-af49-4357-b0f9-f25414b1fe0e",
   "metadata": {},
   "outputs": [],
   "source": [
    "import matplotlib.pyplot as plt\n",
    "import xarray as xr\n",
    "import numpy as np\n",
    "import cftime\n",
    "\n",
    "import IPython.display\n",
    "import cmocean as cm\n",
    "import cartopy.crs as ccrs\n",
    "import cartopy.feature as cft\n",
    "import sys, os, warnings\n",
    "\n",
    "import cosima_cookbook as cc"
   ]
  },
  {
   "cell_type": "code",
   "execution_count": 12,
   "id": "ee8dcfd8-78a5-4f10-9051-0f9dbc9f9775",
   "metadata": {},
   "outputs": [
    {
     "data": {
      "text/plain": [
       "{'model': 'ACCESS-ESM 1.5',\n",
       " 'expt': 'HI-00',\n",
       " 'n_files': -12,\n",
       " 'itime': '1850-01-01',\n",
       " 'ftime': None,\n",
       " 'WOA13expt': '10_KDS50',\n",
       " 'WOA13file': 'woa13_ts_??_mom10.nc'}"
      ]
     },
     "execution_count": 12,
     "metadata": {},
     "output_type": "execute_result"
    }
   ],
   "source": [
    "# try to mimic the cookbook two exp plus obs\n",
    "from collections import OrderedDict\n",
    "exptdict = OrderedDict([\n",
    "    ('HI-00', # original historical run\n",
    "     {'model': 'ACCESS-ESM 1.5', 'expt': 'HI-00',\n",
    "      'n_files': -12, 'itime': '1850-01-01', 'ftime': None}),\n",
    "    ('HI-02', # Pacific Pacemaker historical run\n",
    "     {'model': 'ACCESS-ESM 1.5', 'expt': 'HI-02',\n",
    "      'n_files': -12, 'itime': '1850-01-01', 'ftime': None}),\n",
    "])\n",
    "\n",
    "# Add on pre-interpolated WOA13 directories for every run:\n",
    "for ekey in exptdict.keys():\n",
    "    e = exptdict[ekey]\n",
    "    if (ekey.find('025deg') != -1):\n",
    "        e['WOA13expt'] = '025_KDS50'\n",
    "        e['WOA13file'] = 'woa13_ts_??_mom025.nc'\n",
    "    elif (ekey.find('01deg') != -1):\n",
    "        e['WOA13expt'] = '01'\n",
    "        e['WOA13file'] = 'woa13_ts_??_mom01.nc'\n",
    "    else:\n",
    "        e['WOA13expt'] = '10_KDS50'\n",
    "        e['WOA13file'] = 'woa13_ts_??_mom10.nc'\n",
    "\n",
    "exptdict['HI-00']"
   ]
  },
  {
   "cell_type": "code",
   "execution_count": 13,
   "id": "129bc7ef-ab10-4f2d-bd3a-37e3601abca6",
   "metadata": {},
   "outputs": [],
   "source": [
    "# self defind functions"
   ]
  },
  {
   "cell_type": "code",
   "execution_count": 14,
   "id": "a2ce8a7d-d3d0-4fb0-bfd7-28bd2f13e50a",
   "metadata": {},
   "outputs": [],
   "source": [
    "db = 'local_cc_test.db'\n",
    "session = cc.database.create_session(db)\n",
    "import glob\n",
    "print(glob.glob(RUNDIR+expt2+fName)) "
   ]
  },
  {
   "cell_type": "code",
   "execution_count": 50,
   "id": "cc949ce1-c2fd-4dbf-9e58-5f6a2103d6d8",
   "metadata": {},
   "outputs": [
    {
     "name": "stdout",
     "output_type": "stream",
     "text": [
      "Indexing experiment: HI-00\n"
     ]
    },
    {
     "name": "stderr",
     "output_type": "stream",
     "text": [
      "0it [00:00, ?it/s]\n"
     ]
    },
    {
     "name": "stdout",
     "output_type": "stream",
     "text": [
      "Indexing experiment: HI-02\n"
     ]
    },
    {
     "name": "stderr",
     "output_type": "stream",
     "text": [
      "0it [00:00, ?it/s]\n"
     ]
    },
    {
     "name": "stdout",
     "output_type": "stream",
     "text": [
      "Indexing experiment: 10_KDS50\n"
     ]
    },
    {
     "name": "stderr",
     "output_type": "stream",
     "text": [
      "100%|██████████| 13/13 [00:11<00:00,  1.13it/s]\n"
     ]
    },
    {
     "data": {
      "text/plain": [
       "13"
      ]
     },
     "execution_count": 50,
     "metadata": {},
     "output_type": "execute_result"
    }
   ],
   "source": [
    "# https://cosima-recipes.readthedocs.io/en/latest/tutorials/Make_Your_Own_Database.html\n",
    "# clean up and only keep output*/ocean/\n",
    "# add in one degree woa13\n",
    "#directory_list=['/g/data/p66/ars599/access-esm/archive/HI-00',\n",
    "#                '/g/data/p66/ars599/access-esm/archive/HI-02',\n",
    "#                 '/g/data/ik11/observations/woa13/10_KDS50'\n",
    "#               ]\n",
    "\n",
    "#cc.database.build_index(directory_list, session)"
   ]
  },
  {
   "cell_type": "code",
   "execution_count": 19,
   "id": "14b134e1-23c8-4492-ac42-cdf4df2bfff9",
   "metadata": {},
   "outputs": [
    {
     "data": {
      "image/png": "[encoded data removed]",
      "text/plain": [
       "<Figure size 432x288 with 1 Axes>"
      ]
     },
     "metadata": {
      "needs_background": "light"
     },
     "output_type": "display_data"
    }
   ],
   "source": [
    "exp1 = 'HI-00'\n",
    "exp2 = 'HI-02'\n",
    "variable = 'ke_tot'\n",
    "da1 = cc.querying.getvar(exp1, variable, session, ncfile='ocean_scalar.nc')\n",
    "da2 = cc.querying.getvar(exp2, variable, session, ncfile='ocean_scalar.nc')\n",
    "ann1 = da1.resample(time='A').mean(dim='time')\n",
    "ann2 = da2.resample(time='A').mean(dim='time')\n",
    "ann1.plot();\n",
    "ann2.plot();"
   ]
  },
  {
   "cell_type": "code",
   "execution_count": 24,
   "id": "bfa7e777-b2e0-471c-b46a-9bcc216684be",
   "metadata": {},
   "outputs": [],
   "source": [
    "from collections import OrderedDict\n",
    "exptdict = OrderedDict([\n",
    "    ('HI-00', # original historical run\n",
    "     {'model': 'ACCESS-ESM 1.5', 'expt': 'HI-00',\n",
    "      'n_files': -12, 'itime': '1850-01-01', 'ftime': None}),\n",
    "    ('HI-02', # Pacific Pacemaker historical run\n",
    "     {'model': 'ACCESS-ESM 1.5', 'expt': 'HI-02',\n",
    "      'n_files': -12, 'itime': '1850-01-01', 'ftime': None}),\n",
    "])"
   ]
  },
  {
   "cell_type": "code",
   "execution_count": 38,
   "id": "f5098206-85df-4d42-851e-0b0a786c1a43",
   "metadata": {},
   "outputs": [
    {
     "name": "stdout",
     "output_type": "stream",
     "text": [
      "HI-00: -3375432000000000000 to -2999419200000000000\n",
      "HI-02: -3375432000000000000 to -2999419200000000000\n"
     ]
    }
   ],
   "source": [
    "# Function to extract and load SST and SSS from the models, WOA13\n",
    "ekeys = ['HI-00','HI-02']\n",
    "for ekey in ekeys:\n",
    "    e = exptdict[ekey]\n",
    "\n",
    "    # ke_tot\n",
    "    # -----\n",
    "    ke_tot = cc.querying.getvar(e['expt'], 'ke_tot', session,\n",
    "                            n=e['n_files'], ncfile='ocean_scalar.nc',\n",
    "                 start_time=e['itime'], end_time=e['ftime'])\n",
    "\n",
    "    # Extract a year range string and print (for title string):\n",
    "    e['yearrange'] = \"{} to {}\".format(\n",
    "        ke_tot.time.item(0), #.strftime(\"%Y-%m\"),\n",
    "        ke_tot.time.item(-1), #.strftime(\"%Y-%m\"),\n",
    "    )\n",
    "    print(f\"{ekey}: {e['yearrange']}\")\n",
    "    # Add SST to dictionary\n",
    "    e['ke_tot'] = ke_tot.mean('time').load()\n"
   ]
  },
  {
   "cell_type": "code",
   "execution_count": 48,
   "id": "5376f6e7-26fd-4e95-bcfd-035af31c1bef",
   "metadata": {},
   "outputs": [
    {
     "data": {
      "text/plain": [
       "'HI-02'"
      ]
     },
     "execution_count": 48,
     "metadata": {},
     "output_type": "execute_result"
    }
   ],
   "source": [
    "e['expt']"
   ]
  },
  {
   "cell_type": "code",
   "execution_count": null,
   "id": "e7ecc8cd-d19d-46b0-ad34-b3beeb42d2b0",
   "metadata": {},
   "outputs": [],
   "source": []
  },
  {
   "cell_type": "code",
   "execution_count": null,
   "id": "d88f895a-34be-4b54-8cde-f4c3f327e7f0",
   "metadata": {},
   "outputs": [],
   "source": []
  }
 ],
 "metadata": {
  "kernelspec": {
   "display_name": "Python [conda env:analysis3-22.01]",
   "language": "python",
   "name": "conda-env-analysis3-22.01-py"
  },
  "language_info": {
   "codemirror_mode": {
    "name": "ipython",
    "version": 3
   },
   "file_extension": ".py",
   "mimetype": "text/x-python",
   "name": "python",
   "nbconvert_exporter": "python",
   "pygments_lexer": "ipython3",
   "version": "3.9.12"
  }
 },
 "nbformat": 4,
 "nbformat_minor": 5
}
